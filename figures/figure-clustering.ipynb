{
 "cells": [
  {
   "cell_type": "code",
   "execution_count": null,
   "metadata": {
    "ExecuteTime": {
     "end_time": "2018-09-10T09:25:06.577521",
     "start_time": "2018-09-10T09:25:05.605131"
    }
   },
   "outputs": [],
   "source": [
    "# Import necessary modules\n",
    "import numpy as np\n",
    "import scipy as sp\n",
    "import matplotlib.pyplot as plt\n",
    "from matplotlib import gridspec\n",
    "import os\n",
    "import pickle\n",
    "from scipy.optimize import curve_fit\n",
    "import memdiff\n",
    "\n",
    "%matplotlib inline\n",
    "\n",
    "\n",
    "# ------------------------ #\n",
    "#   Function Definitions   #\n",
    "# ------------------------ #\n",
    "\n",
    "def genfromxvg(fn):\n",
    "    ''' most GROMACS xvg files have a header of 8 rows\n",
    "        and comments starting with @'''\n",
    "    return np.genfromtxt(fn, skip_header=8, comments='@')\n",
    "\n",
    "def running_mean(x, N):\n",
    "    cumsum = np.cumsum(np.insert(x, 0, 0)) \n",
    "    return (cumsum[N:] - cumsum[:-N]) / N "
   ]
  },
  {
   "cell_type": "code",
   "execution_count": null,
   "metadata": {
    "ExecuteTime": {
     "end_time": "2018-09-10T09:25:06.585950",
     "start_time": "2018-09-10T09:25:06.580624"
    }
   },
   "outputs": [],
   "source": [
    "# ------------------- #\n",
    "#   Directory Names   #\n",
    "# ------------------- #\n",
    "\n",
    "analysisDir = '../results/martini-bigsimulations/analysis/'\n",
    "simulation = 'POPC-100CNT-12-8-f11-SNda'\n",
    "sim_list = ['POPC-100CNT-12-8-f11-SNda-A','POPC-100CNT-12-8-f11-SNda-B','POPC-100CNT-12-8-f11-SNda-C','POPC-100CNT-12-8-f11-SNda-D']"
   ]
  },
  {
   "cell_type": "code",
   "execution_count": null,
   "metadata": {
    "ExecuteTime": {
     "end_time": "2018-09-10T09:25:07.702511",
     "start_time": "2018-09-10T09:25:06.588852"
    }
   },
   "outputs": [],
   "source": [
    "# ----------------- #\n",
    "#  Clustering data  #\n",
    "# ----------------- #\n",
    "\n",
    "crystals = []\n",
    "clusters = []\n",
    "biggest_cluster = []\n",
    "for simulation in sim_list:\n",
    "    clusterfile = analysisDir+\"clusters/clusters-\"+simulation+\".dat\"\n",
    "    crystalfile = analysisDir+\"crystals/crystals-\"+simulation+\".dat\"\n",
    "    clusterdata = np.genfromtxt(clusterfile)\n",
    "    crystaldata = np.genfromtxt(crystalfile)\n",
    "    time        = crystaldata[:,0]*1e-6\n",
    "    print( 'Frames:', len(time) )\n",
    "    crystals.append(crystaldata[:,1])\n",
    "    clusters.append(clusterdata[:,1])\n",
    "    biggest_cluster.append(clusterdata[:,2])\n",
    "crystals        = np.average( np.array(crystals), axis=0 )\n",
    "clusters        = np.average( np.array(clusters), axis=0 )\n",
    "biggest_cluster = np.average( np.array(biggest_cluster), axis=0 )\n",
    "\n",
    "# Fit number of clusters\n",
    "def fit_nclust(x, b):\n",
    "    return 99 * np.exp(b * x) + 1\n",
    "popt_nclust, pcov = curve_fit(fit_nclust, time, clusters)\n",
    "print(popt_nclust)\n",
    "\n",
    "# Power Law\n",
    "def power_law(x, a, b):\n",
    "    return a*x**b\n",
    "    \n",
    "# Fit N_max\n",
    "popt_nmax, pcov_nmax = curve_fit(power_law, time, biggest_cluster)\n",
    "print(popt_nmax)\n",
    "    \n",
    "# Fit N_average\n",
    "popt_nav, pcov_nav = curve_fit(power_law, time, 100./clusters)\n",
    "print(popt_nav)"
   ]
  },
  {
   "cell_type": "code",
   "execution_count": null,
   "metadata": {
    "ExecuteTime": {
     "end_time": "2018-09-10T09:25:07.892304",
     "start_time": "2018-09-10T09:25:07.705951"
    }
   },
   "outputs": [],
   "source": [
    "# -------------------------- #\n",
    "#  Radial distribution data  #\n",
    "# -------------------------- #\n",
    "\n",
    "filename = analysisDir+\"rdf/rdf-\"+simulation+\".xvg\"\n",
    "rdf_data = genfromxvg(filename)\n",
    "cnt_dist = rdf_data[:,0]\n",
    "cnt_rdf  = rdf_data[:,1]"
   ]
  },
  {
   "cell_type": "code",
   "execution_count": null,
   "metadata": {
    "ExecuteTime": {
     "end_time": "2018-09-10T09:25:07.949594",
     "start_time": "2018-09-10T09:25:07.896018"
    }
   },
   "outputs": [],
   "source": [
    "# ---------------- #\n",
    "#   Tilting data   #\n",
    "# ---------------- #\n",
    "\n",
    "tilt = []\n",
    "for simulation in sim_list:\n",
    "    filename = analysisDir+\"tilt/tilt-\"+simulation+\".dat\"\n",
    "    data = np.genfromtxt(filename)\n",
    "    tilt.append(data[:,1])\n",
    "    tilt_time = data[:,0]*1e-6\n",
    "tilt = np.average( np.array(tilt), axis=0 )"
   ]
  },
  {
   "cell_type": "code",
   "execution_count": null,
   "metadata": {
    "ExecuteTime": {
     "end_time": "2018-09-10T09:30:57.644042",
     "start_time": "2018-09-10T09:30:55.457044"
    }
   },
   "outputs": [],
   "source": [
    "# -------------- #\n",
    "#   The Figure   #\n",
    "# -------------- #\n",
    "\n",
    "fig = plt.figure(figsize=(6.4, 4.8), dpi=300) \n",
    "gs = gridspec.GridSpec(2, 2,width_ratios=[1, 1]) \n",
    "\n",
    "ax2 = plt.subplot(gs[0,0])\n",
    "ax0 = plt.subplot(gs[0,1])\n",
    "ax3 = plt.subplot(gs[1,1])\n",
    "ax1 = plt.subplot(gs[1,0])\n",
    "\n",
    "# Plot number of clusters\n",
    "ax0.plot(time, crystals, lw=3, color='C1', alpha=1, label=r\"$r_c = 1.70\\,\\mathrm{nm}$\")\n",
    "ax0.plot(time, clusters, '-', lw=3, color='C0', alpha=1, label=r\"$r_c = 2.25\\,\\mathrm{nm}$\") \n",
    "#ax0.plot(time, fit_nclust(time,*popt_nclust), '--', lw=2, color='black', alpha=1, label=r'exp. fit') \n",
    "ax0.set(xlabel=r'time$\\;\\mathrm{[\\mu s]}$')\n",
    "ax0.set(ylabel='#clusters')\n",
    "ax0.legend(loc='best',frameon=False) #,fontsize=12)\n",
    "ax0.set_xlim([0,14])\n",
    "ax0.set_ylim([0,110])\n",
    "    \n",
    "# Plot maximum and average size of the clusters  \n",
    "ax1.plot(time, biggest_cluster, '-', lw=3, color='C0', alpha=0.4, label=r\"Maximum cluster size\") # $N_\\mathrm{max}$\n",
    "ax1.plot(time[7:], power_law(time[7:],*popt_nmax), '-', lw=2, color='C0', alpha=1) \n",
    "ax1.plot(time, 100./clusters, '-', lw=3, color='C2', alpha=0.4, label=r\"Average cluster size\") # $\\bar{N}$\n",
    "ax1.set(xlabel=r'time$\\;\\mathrm{[\\mu s]}$')\n",
    "ax1.set(ylabel='cluster size')\n",
    "ax1.set_xscale(\"log\", nonpositive='clip')\n",
    "ax1.set_yscale(\"log\", nonpositive='clip')\n",
    "ax1.legend(loc='upper left',frameon=False) #,fontsize=12)\n",
    "ax1.set_xlim([0.05,20])\n",
    "ax1.set_ylim([1,100])\n",
    "   \n",
    "## RDF \n",
    "ax2.plot(cnt_dist, cnt_rdf, lw=2, label='RDF(CNT-CNT)', color='black')    \n",
    "ax2.vlines([1.7,2.25],0,210,colors=['C1','C0'],linestyles=['--',':'])\n",
    "ax2.axis([1., 4, 0, 210])\n",
    "ax2.set(xlabel=r'$r\\;\\mathrm{[nm]}$')\n",
    "ax2.set(ylabel=r'$g(r)$')\n",
    "ax2.legend(loc='best',frameon=False)  \n",
    "ax2.annotate( '1.7 nm', xy=[1.06,160], color='C1') # , fontsize=12\n",
    "ax2.annotate( '2.25 nm', xy=[2.35,100], color='C0') # , fontsize=12\n",
    "\n",
    "## TILTING\n",
    "ax3.plot( tilt_time, tilt, lw=2, color='black', alpha=1, label=\"average tilt\")\n",
    "#ax3.plot(data[10:-9,0]*1e-6, running_mean(data[:,1],20), lw=2, color='black', label=\"av. tilt angle\")\n",
    "ax3.set_xlim([0,14])\n",
    "ax3.set_ylim([0.92,1])\n",
    "ax3.set(xlabel=r'time$\\;\\mathrm{[\\mu s]}$')\n",
    "ax3.set(ylabel=r'$\\left\\langle \\cos(\\theta_\\mathrm{tilt}) \\right\\rangle_\\mathrm{CNTs}$')\n",
    "#ax3.legend(loc='lower right',frameon=False) \n",
    "start, end = ax3.get_ylim()\n",
    "ax3.yaxis.set_ticks(np.arange(start, end+0.01, 0.02))\n",
    "\n",
    "## LAYOUT AND PRINT\n",
    "panellabel = [\"B\",\"C\",\"A\",\"D\"]\n",
    "for i,axi in enumerate([ax0,ax1,ax2,ax3]):\n",
    "    #axi.xaxis.label.set_size(16)\n",
    "    #axi.yaxis.label.set_size(16)\n",
    "    #axi.tick_params(labelsize=12) \n",
    "    #axi.text(-0.1, 1.15, panellabel[i], transform=axi.transAxes, fontsize=16, fontweight='bold', va='top', ha='right')\n",
    "    axi.text(0.9, 0.25, panellabel[i], transform=axi.transAxes, fontsize=16, va='top', ha='right') # , fontweight='bold'\n",
    "    \n",
    "plt.tight_layout()\n",
    "fig.savefig(\"figure2.pdf\", format='pdf', dpi=300)"
   ]
  }
 ],
 "metadata": {
  "anaconda-cloud": {},
  "hide_input": false,
  "kernelspec": {
   "display_name": "Python 3 (ipykernel)",
   "language": "python",
   "name": "python3"
  },
  "language_info": {
   "codemirror_mode": {
    "name": "ipython",
    "version": 3
   },
   "file_extension": ".py",
   "mimetype": "text/x-python",
   "name": "python",
   "nbconvert_exporter": "python",
   "pygments_lexer": "ipython3",
   "version": "3.7.3"
  },
  "toc": {
   "colors": {
    "hover_highlight": "#DAA520",
    "running_highlight": "#FF0000",
    "selected_highlight": "#FFD700"
   },
   "moveMenuLeft": true,
   "nav_menu": {
    "height": "12px",
    "width": "252px"
   },
   "navigate_menu": true,
   "number_sections": true,
   "sideBar": true,
   "threshold": 4,
   "toc_cell": false,
   "toc_section_display": "block",
   "toc_window_display": true
  }
 },
 "nbformat": 4,
 "nbformat_minor": 1
}
