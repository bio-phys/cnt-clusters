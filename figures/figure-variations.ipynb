{
 "cells": [
  {
   "cell_type": "code",
   "execution_count": null,
   "metadata": {
    "ExecuteTime": {
     "end_time": "2018-08-26T17:53:58.908738",
     "start_time": "2018-08-26T17:53:58.485955"
    }
   },
   "outputs": [],
   "source": [
    "# Import necessary modules\n",
    "import numpy as np\n",
    "import scipy as sp\n",
    "import matplotlib.pyplot as plt\n",
    "from matplotlib import colors\n",
    "import os\n",
    "\n",
    "%matplotlib inline\n",
    "\n",
    "#plt.rc('text', usetex=True) # Use TeX for tic labels\n",
    "#plt.rc('font', family='serif', size=12) \n",
    "\n",
    "\n",
    "\n",
    "def genfromxvg(fn):\n",
    "    ''' most GROMACS xvg files have a header of 8 rows\n",
    "        and comments starting with @'''\n",
    "    return np.genfromtxt(fn, skip_header=8, comments='@')\n",
    "\n",
    "def running_mean(x, N):\n",
    "    cumsum = np.cumsum(np.insert(x, 0, 0)) \n",
    "    return (cumsum[N:] - cumsum[:-N]) / N \n",
    "\n",
    "\n",
    "analysisDir = '../results/martini-tubeinteractions-samestart/analysis/'"
   ]
  },
  {
   "cell_type": "code",
   "execution_count": null,
   "metadata": {
    "ExecuteTime": {
     "end_time": "2018-08-26T17:54:04.064587",
     "start_time": "2018-08-26T17:53:58.911303"
    }
   },
   "outputs": [],
   "source": [
    "scaleList = [\"050\",\"060\",\"070\",\"080\",\"090\",\"100\"]\n",
    "\n",
    "fig, ax = plt.subplots(2, 3, figsize=plt.figaspect(0.5)*1.5, dpi=300)\n",
    "\n",
    "for i, scale in enumerate(scaleList):\n",
    "    \n",
    "    ax = ax.reshape(6)    \n",
    "    \n",
    "    clusterfile = analysisDir+\"clusters/clusters-POPC-100CNT-12-8-f11-SNda-cnp\"+scale+\".dat\"\n",
    "    crystalfile = analysisDir+\"crystals/crystals-POPC-100CNT-12-8-f11-SNda-cnp\"+scale+\".dat\"\n",
    "    clusterdata = np.genfromtxt(clusterfile)\n",
    "    crystaldata = np.genfromtxt(crystalfile)\n",
    "    time = crystaldata[:,0]*1e-6\n",
    "    \n",
    "    ax[i].plot(time, crystaldata[:,1], lw=4, color='C0', alpha=0.2)\n",
    "    ax[i].plot(time, clusterdata[:,1], lw=4, color='C1', alpha=0.2) \n",
    "    ax[i].plot(time[20:-19], running_mean(crystaldata[:,1],40), lw=2, color='C0', label=r\"$r = 1.70\\,\\mathrm{nm}$\")\n",
    "    ax[i].plot(time[20:-19], running_mean(clusterdata[:,1],40), lw=2, color='C1', label=r\"$r = 2.25\\,\\mathrm{nm}$\")  \n",
    "    \n",
    "    ax[i].axis([0, 20, 0, 110])\n",
    "    if i >= 3:\n",
    "        ax[i].set(xlabel=r'$t\\,\\mathrm{[\\mu s]}$')\n",
    "    if i % 3 == 0:\n",
    "        ax[i].set(ylabel='number of clusters')\n",
    "    ax[i].xaxis.label.set_size(20)\n",
    "    ax[i].yaxis.label.set_size(18)\n",
    "    ax[i].tick_params(labelsize=14) \n",
    "    if i < 3:\n",
    "        ax[i].legend(fontsize=14,loc='upper right',numpoints=1);\n",
    "        ax[i].annotate(str(int(scale))+\"%\", xy=(2, 10), xytext=(13, 56.0), fontsize=18)\n",
    "    else:\n",
    "        ax[i].legend(fontsize=14,loc='center right',numpoints=1);\n",
    "        ax[i].annotate(str(int(scale))+\"%\", xy=(2, 10), xytext=(13, 78.5), fontsize=18)\n",
    "        \n",
    "fig.tight_layout()"
   ]
  },
  {
   "cell_type": "code",
   "execution_count": null,
   "metadata": {
    "ExecuteTime": {
     "end_time": "2018-08-26T18:15:15.515935",
     "start_time": "2018-08-26T18:15:14.346126"
    }
   },
   "outputs": [],
   "source": [
    "scaleList = [\"050\",\"060\",\"070\",\"080\",\"090\",\"100\"]\n",
    "\n",
    "fig, ax = plt.subplots(1, 1, figsize=plt.figaspect(1), dpi=100)\n",
    "\n",
    "color_list=plt.cm.rainbow(np.linspace(0,1,6))\n",
    "\n",
    "for i, scale in enumerate(scaleList):   \n",
    "    \n",
    "    clusterfile = analysisDir+\"clusters/clusters-POPC-100CNT-12-8-f11-SNda-cnp\"+scale+\".dat\"\n",
    "    crystalfile = analysisDir+\"crystals/crystals-POPC-100CNT-12-8-f11-SNda-cnp\"+scale+\".dat\"\n",
    "    clusterdata = np.genfromtxt(clusterfile)\n",
    "    crystaldata = np.genfromtxt(crystalfile)\n",
    "    time = crystaldata[:,0]*1e-6\n",
    "    \n",
    "    ax.plot(time, crystaldata[:,1], lw=3, alpha=1.0, label=str(int(scale))+\"%\")\n",
    "    ax.plot(time, clusterdata[:,1], lw=3, color='grey', alpha=0.3) \n",
    "    #ax.plot(time[20:-19], running_mean(crystaldata[:,1],40), lw=2, label=str(int(scale))+\"%\")\n",
    "    #ax.plot(time[20:-19], running_mean(clusterdata[:,1],40), lw=2, color='red', label=r\"$r = 2.25\\,\\mathrm{nm}$\")  \n",
    "    \n",
    "    ax.annotate(r\"$r_c = 2.25\\,\\mathrm{nm}$\", xy=(6.5, 11), xytext=(8, 10.0), fontsize=14,color='grey')\n",
    "    \n",
    "    ax.axis([0, 15, 0, 110])\n",
    "    ax.set(xlabel=r'$t\\,\\mathrm{[\\mu s]}$')\n",
    "    ax.set(ylabel='number of clusters')\n",
    "    ax.xaxis.label.set_size(16)\n",
    "    ax.yaxis.label.set_size(16)\n",
    "    ax.tick_params(labelsize=14) \n",
    "    ax.legend(fontsize=12,loc='upper right',numpoints=1);\n",
    "\n",
    "        \n",
    "fig.tight_layout()\n",
    "\n",
    "\n",
    "fig.savefig(\"figure5c.pdf\", format='pdf')"
   ]
  },
  {
   "cell_type": "code",
   "execution_count": null,
   "metadata": {
    "ExecuteTime": {
     "end_time": "2018-08-26T18:15:16.391964",
     "start_time": "2018-08-26T18:15:15.518629"
    }
   },
   "outputs": [],
   "source": [
    "scaleList = [\"DLPC\",\"DOPC\",\"DPPC\",\"POPC\",\"POPE\",\"POPG\",\"MONO\"]\n",
    "\n",
    "fig, ax = plt.subplots(1, 1, figsize=plt.figaspect(1), dpi=100)\n",
    "\n",
    "for i, scale in enumerate(scaleList):   \n",
    "    \n",
    "    clusterfile = \"../results/martini-lipidcomposition/analysis/clusters/clusters-\"+scale+\"-100CNT-12-8-f11-SNda.dat\"\n",
    "    crystalfile = \"../results/martini-lipidcomposition/analysis/crystals/crystals-\"+scale+\"-100CNT-12-8-f11-SNda.dat\"\n",
    "    clusterdata = np.genfromtxt(clusterfile)\n",
    "    crystaldata = np.genfromtxt(crystalfile)\n",
    "    time = crystaldata[:,0]*1e-6\n",
    "    \n",
    "    ax.plot(time, crystaldata[:,1], lw=3, color='grey', alpha=0.3)\n",
    "    ax.plot(time, clusterdata[:,1], lw=3, alpha=1.0, label=scale)  \n",
    "    \n",
    "    ax.annotate(r\"$r = 1.70\\,\\mathrm{nm}$\", xy=(3, 90), xytext=(3, 90.0), fontsize=16,color='grey')\n",
    "    \n",
    "    ax.axis([0, 10, 0, 110])\n",
    "    ax.set(xlabel=r'$t\\,\\mathrm{[\\mu s]}$')\n",
    "    ax.set(ylabel='number of clusters')\n",
    "    ax.xaxis.label.set_size(16)\n",
    "    ax.yaxis.label.set_size(16)\n",
    "    ax.legend(fontsize=14,loc='center right',numpoints=1);\n",
    "    ax.tick_params(labelsize=14) \n",
    "        \n",
    "fig.tight_layout()\n",
    "\n",
    "\n",
    "fig.savefig(\"figure5b.pdf\", format='pdf')"
   ]
  },
  {
   "cell_type": "code",
   "execution_count": null,
   "metadata": {
    "ExecuteTime": {
     "end_time": "2018-08-26T18:15:17.258605",
     "start_time": "2018-08-26T18:15:16.395243"
    }
   },
   "outputs": [],
   "source": [
    "scaleList = [\"f00\",\"f11\",\"f22\",\"f33\",\"f44\",\"f55\"]\n",
    "\n",
    "fig, ax = plt.subplots(1, 1, figsize=plt.figaspect(1), dpi=100)\n",
    "\n",
    "for i, scale in enumerate(scaleList):  \n",
    "    \n",
    "    clusterfile = \"../results/martini-hydrophobicthickness/analysis/clusters/clusters-POPC-100CNT-12-8-\"+scale+\"-SNda.dat\"\n",
    "    crystalfile = \"../results/martini-hydrophobicthickness/analysis/crystals/crystals-POPC-100CNT-12-8-\"+scale+\"-SNda.dat\"\n",
    "    clusterdata = np.genfromtxt(clusterfile)\n",
    "    crystaldata = np.genfromtxt(crystalfile)\n",
    "    time = crystaldata[:,0]*1e-6\n",
    "    \n",
    "    ax.plot(time, crystaldata[:,1], lw=3, color='grey', alpha=0.3)\n",
    "    ax.plot(time, clusterdata[:,1], lw=3, alpha=1.0, label=scale)  \n",
    "    \n",
    "    ax.annotate(r\"$r = 1.70\\,\\mathrm{nm}$\", xy=(3, 90), xytext=(0.75, 91.0), fontsize=14,color='grey')\n",
    "    \n",
    "    ax.axis([0, 10, 0, 110])\n",
    "    ax.set(xlabel=r'$t\\,\\mathrm{[\\mu s]}$')\n",
    "    ax.set(ylabel='number of clusters')\n",
    "    ax.xaxis.label.set_size(16)\n",
    "    ax.yaxis.label.set_size(16)\n",
    "    ax.legend(fontsize=14,loc='upper right',numpoints=1);\n",
    "    ax.tick_params(labelsize=14) \n",
    "        \n",
    "        \n",
    "fig.tight_layout()\n",
    "\n",
    "fig.savefig(\"figure5a.pdf\", format='pdf')"
   ]
  },
  {
   "cell_type": "code",
   "execution_count": null,
   "metadata": {
    "ExecuteTime": {
     "end_time": "2018-08-26T18:36:51.874769",
     "start_time": "2018-08-26T18:36:50.257260"
    }
   },
   "outputs": [],
   "source": [
    "# ONE FOR ALL\n",
    "\n",
    "fig, ax = plt.subplots(1, 3, figsize=(7,3.5), sharey=True, dpi=300)\n",
    "\n",
    "# CNT properties\n",
    "scaleList = [\"f00\",\"f11\",\"f22\",\"f33\",\"f44\",\"f55\"]\n",
    "for i, scale in enumerate(scaleList):     \n",
    "    clusterfile = \"../results/martini-hydrophobicthickness/analysis/clusters/clusters-POPC-100CNT-12-8-\"+scale+\"-SNda.dat\"\n",
    "    crystalfile = \"../results/martini-hydrophobicthickness/analysis/crystals/crystals-POPC-100CNT-12-8-\"+scale+\"-SNda.dat\"\n",
    "    clusterdata = np.genfromtxt(clusterfile)\n",
    "    crystaldata = np.genfromtxt(crystalfile)\n",
    "    time = crystaldata[:,0]*1e-6 \n",
    "    ax[0].plot(time, crystaldata[:,1], lw=2, color='grey', alpha=0.3)\n",
    "    ax[0].plot(time, clusterdata[:,1], lw=2, alpha=1.0, label=scale[:-1])  \n",
    "ax[0].annotate(r\"$r = 1.70\\,\\mathrm{nm}$\", xy=(3, 92), xytext=(0.5, 93.0), color='grey')\n",
    "    \n",
    "# Lipid Properties\n",
    "scaleList = [\"DLPC\",\"DOPC\",\"DPPC\",\"POPC\",\"POPE\",\"POPG\",\"MONO\"]\n",
    "for i, scale in enumerate(scaleList):     \n",
    "    clusterfile = \"../results/martini-lipidcomposition/analysis/clusters/clusters-\"+scale+\"-100CNT-12-8-f11-SNda.dat\"\n",
    "    crystalfile = \"../results/martini-lipidcomposition/analysis/crystals/crystals-\"+scale+\"-100CNT-12-8-f11-SNda.dat\"\n",
    "    clusterdata = np.genfromtxt(clusterfile)\n",
    "    crystaldata = np.genfromtxt(crystalfile)\n",
    "    time = crystaldata[:,0]*1e-6\n",
    "    ax[1].plot(time, crystaldata[:,1], lw=2, color='grey', alpha=0.3)\n",
    "    if scale==\"MONO\": scale=\"MO\"\n",
    "    ax[1].plot(time, clusterdata[:,1], lw=2, alpha=1.0, label=scale)  \n",
    "ax[1].annotate(r\"$r = 1.7\\,\\mathrm{nm}$\", xy=(3, 92), xytext=(0.5, 93.0), color='grey')\n",
    "    \n",
    "# Interaction Strength\n",
    "scaleList = [\"060\",\"070\",\"080\",\"090\",\"100\"]\n",
    "for i, scale in enumerate(scaleList[::-1]):   \n",
    "    clusterfile = analysisDir+\"clusters/clusters-POPC-100CNT-12-8-f11-SNda-cnp\"+scale+\".dat\"\n",
    "    crystalfile = analysisDir+\"crystals/crystals-POPC-100CNT-12-8-f11-SNda-cnp\"+scale+\".dat\"\n",
    "    clusterdata = np.genfromtxt(clusterfile)\n",
    "    crystaldata = np.genfromtxt(crystalfile)\n",
    "    time = crystaldata[:,0]*1e-6\n",
    "    ax[2].plot(time, crystaldata[:,1], lw=2, alpha=1.0, label=str(int(scale))+\"%\")\n",
    "    ax[2].plot(time, clusterdata[:,1], lw=2, color='grey', alpha=0.3) \n",
    "ax[2].annotate(r\"$r_c = 2.25\\,\\mathrm{nm}$\", xy=(0,0), xytext=(2.0, 22.0), color='grey')\n",
    "    \n",
    "# Format  \n",
    "panellabel = [\"A\",\"B\",\"C\"]\n",
    "for i,axi in enumerate(ax):\n",
    "    axi.axis([-0.5, 10.5, 0, 115])\n",
    "    axi.set(xlabel=r'time $t\\,\\mathrm{[\\mu s]}$')\n",
    "    #axi.xaxis.label.set_size(12)\n",
    "    #axi.yaxis.label.set_size(12)\n",
    "    axi.legend(loc='upper right',numpoints=1) # fontsize=12\n",
    "    axi.text(0.15, 0.97, panellabel[i], transform=axi.transAxes, fontsize=16, va='top', ha='right') # , fontweight='bold'\n",
    "#    axi.set_xlim([0.02,20])\n",
    "#    axi.set_xscale('log')\n",
    "    \n",
    "ax[0].set(ylabel='number of clusters')\n",
    "\n",
    "fig.tight_layout()\n",
    "\n",
    "fig.savefig(\"figure5.pdf\", format='pdf', dpi=300)"
   ]
  }
 ],
 "metadata": {
  "anaconda-cloud": {},
  "kernelspec": {
   "display_name": "Python 3 (ipykernel)",
   "language": "python",
   "name": "python3"
  },
  "language_info": {
   "codemirror_mode": {
    "name": "ipython",
    "version": 3
   },
   "file_extension": ".py",
   "mimetype": "text/x-python",
   "name": "python",
   "nbconvert_exporter": "python",
   "pygments_lexer": "ipython3",
   "version": "3.7.3"
  },
  "toc": {
   "colors": {
    "hover_highlight": "#DAA520",
    "running_highlight": "#FF0000",
    "selected_highlight": "#FFD700"
   },
   "moveMenuLeft": true,
   "nav_menu": {
    "height": "12px",
    "width": "252px"
   },
   "navigate_menu": true,
   "number_sections": true,
   "sideBar": true,
   "threshold": 4,
   "toc_cell": false,
   "toc_section_display": "block",
   "toc_window_display": false
  }
 },
 "nbformat": 4,
 "nbformat_minor": 1
}
