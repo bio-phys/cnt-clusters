{
 "cells": [
  {
   "cell_type": "markdown",
   "metadata": {},
   "source": [
    "# Modules"
   ]
  },
  {
   "cell_type": "code",
   "execution_count": null,
   "metadata": {
    "ExecuteTime": {
     "end_time": "2018-08-26T17:53:42.172597",
     "start_time": "2018-08-26T17:53:41.017765"
    }
   },
   "outputs": [],
   "source": [
    "import numpy as np\n",
    "import scipy as sp\n",
    "from scipy.optimize import curve_fit\n",
    "import pickle\n",
    "import MDAnalysis as mda\n",
    "import matplotlib.pyplot as plt\n",
    "%matplotlib inline\n",
    "\n",
    "from joblib import Parallel, delayed\n",
    "import multiprocessing"
   ]
  },
  {
   "cell_type": "code",
   "execution_count": null,
   "metadata": {
    "ExecuteTime": {
     "end_time": "2018-08-26T17:53:42.180508",
     "start_time": "2018-08-26T17:53:42.175837"
    }
   },
   "outputs": [],
   "source": [
    "import memdiff"
   ]
  },
  {
   "cell_type": "markdown",
   "metadata": {},
   "source": [
    "# Mean square displacement"
   ]
  },
  {
   "cell_type": "code",
   "execution_count": null,
   "metadata": {
    "ExecuteTime": {
     "end_time": "2018-08-26T17:53:42.212379",
     "start_time": "2018-08-26T17:53:42.183023"
    }
   },
   "outputs": [],
   "source": [
    "def plot_msd(name):\n",
    "    \n",
    "    # Load data\n",
    "    with open('../results/martini-bigsimulations/diffusion/diffusion_clusters_'+name+'.p','br') as infile:\n",
    "        cluster_sizes, cluster_dc, cluster_err, time, cluster_msd, cluster_points = pickle.load(infile)\n",
    "\n",
    "    fig, ax = plt.subplots(1, 1, figsize=plt.figaspect(.75)*1.0, dpi=100) # , sharex='col', sharey='row'\n",
    "\n",
    "    rainbow = plt.get_cmap('rainbow')\n",
    "    for n,cs in enumerate(cluster_sizes):\n",
    "        msd_n = cluster_msd[n,:]*0.1 # conversion to nm\n",
    "        if cs==1 or cs==np.max(cluster_sizes):\n",
    "            ax.plot(time[:len(msd_n)],msd_n,color=rainbow(np.sqrt(float(cs)/np.max(cluster_sizes))),label='cluster size $s_c = $'+str(cs))\n",
    "        else:\n",
    "            ax.plot(time[:len(msd_n)],msd_n,color=rainbow(np.sqrt(float(cs)/np.max(cluster_sizes))))\n",
    "\n",
    "    ax.set_xlim([0,20])\n",
    "    ax.set_ylim([0,20])\n",
    "\n",
    "    ax.set_xlabel(r'$t\\;[\\mathrm{ns}]$',fontsize=20)\n",
    "    ax.set_ylabel(r'MSD$(t)\\;[\\mathrm{nm^2}]$',fontsize=20)\n",
    "\n",
    "    ax.legend(loc='upper left',fontsize=14)\n",
    "    \n",
    "    ax.tick_params(labelsize=14)\n",
    "\n",
    "    fig.tight_layout()\n",
    "\n",
    "#    fig.savefig('../plots/msd_'+name+'.pdf', fmt='pdf', dpi=300)\n",
    "    \n",
    "    return"
   ]
  },
  {
   "cell_type": "code",
   "execution_count": null,
   "metadata": {
    "ExecuteTime": {
     "end_time": "2018-08-26T17:53:43.115651",
     "start_time": "2018-08-26T17:53:42.216616"
    }
   },
   "outputs": [],
   "source": [
    "plot_msd('POPC-100CNT-12-8-f11-SNda-A')"
   ]
  },
  {
   "cell_type": "markdown",
   "metadata": {
    "collapsed": true
   },
   "source": [
    "# Combined Fit of Diffusion Coefficients"
   ]
  },
  {
   "cell_type": "code",
   "execution_count": null,
   "metadata": {
    "ExecuteTime": {
     "end_time": "2018-08-26T17:53:43.177307",
     "start_time": "2018-08-26T17:53:43.118043"
    }
   },
   "outputs": [],
   "source": [
    "kB = 1.38064852e-23\n",
    "eta_f_martini = 10.2e-4\n",
    "r_CNT = 1.05 # radius of a CNT in nm\n",
    "\n",
    "\n",
    "def d_SD_visc( x, eta_m, eta_f=eta_f_martini, T=300 ): \n",
    "    \"\"\" Saffman-Delbrueck law from viscosities\n",
    "    Arguments:\n",
    "        x: radius of the diffusing object in nm\n",
    "        eta_m: membrane surface viscosity in Pa s m\n",
    "        eta_f: water viscosity in Pa s\n",
    "        T: temperature in K\n",
    "    Returns:\n",
    "        dc: diffusion coefficient predicted by the SD law in 10^-11 m^2/s resp. 10^-7 cm^2/s\n",
    "    \"\"\"\n",
    "    \n",
    "    a   = kB*T/(4*np.pi*eta_m)\n",
    "    b   = 1.0e9*0.5*eta_m/eta_f \n",
    "    eps = x/b\n",
    "    \n",
    "    dc  = a * ( np.log( 2./eps ) - np.euler_gamma )\n",
    "    \n",
    "    return 1.0e11*dc\n",
    "\n",
    "\n",
    "def d_PS_visc( x, eta_m, eta_f=eta_f_martini, T=300 ):\n",
    "    \"\"\" Saffman-Delbrueck law from viscosities\n",
    "    Arguments:\n",
    "        x: radius of the diffusing object in nm\n",
    "        eta_m: membrane surface viscosity in Pa s m\n",
    "        eta_f: water viscosity in Pa s\n",
    "        T: temperature in K\n",
    "    Returns:\n",
    "        dc: diffusion coefficient predicted by the HPW law in 10^-11 m^2/s resp. 10^-7 cm^2/s\n",
    "    \"\"\"\n",
    "    \n",
    "    a = kB*T/(4*np.pi*eta_m)\n",
    "    b = 1.0e9*0.5*eta_m/eta_f # SD length in nm\n",
    "    \n",
    "    c1  = 0.73761 \n",
    "    b1  = 2.74819 \n",
    "    c2  = 0.52119 \n",
    "    b2  = 0.51465 \n",
    "    eps = x/b\n",
    "    \n",
    "    dc  = a * ( np.log(2./eps) - np.euler_gamma + 4*eps/np.pi - (eps**2/2.)*np.log(2./eps) )\n",
    "    dc /= 1 - (eps**3/np.pi)*np.log(2./eps) + c1*eps**b1/( 1 + c2*eps**b2 )\n",
    "    \n",
    "    return 1.0e11*dc\n",
    "\n",
    "def d_SE_visc( x, eta_m, eta_f=eta_f_martini, T=300 ):\n",
    "    \"\"\" Stokes Einstein law from viscosities\n",
    "    Arguments:\n",
    "        x: radius of the diffusing object in nm\n",
    "        eta_m: membrane surface viscosity in Pa s m\n",
    "        eta_f: water viscosity in Pa s\n",
    "        T: temperature in K\n",
    "    Returns:\n",
    "        dc: diffusion coefficient predicted by the Stokes-Einstein-like law in 10^-11 m^2/s resp. 10^-7 cm^2/s\n",
    "    \"\"\"\n",
    "    \n",
    "    a = kB*T/(4*np.pi*eta_m)\n",
    "    b = 1.0e9*0.25*eta_m/eta_f # SD length in nm\n",
    "    \n",
    "    c1  = 0.73761 \n",
    "    b1  = 2.74819 \n",
    "    c2  = 0.52119 \n",
    "    b2  = 0.51465 \n",
    "    eps = x/b\n",
    "    \n",
    "    dc  = a / ( eps/np.pi  )\n",
    "    \n",
    "    return 1.0e11*dc\n",
    "\n",
    "\n",
    "def d_corr_visc( d_sim, eta_m ):\n",
    "    \"\"\" Saffman-Delbrueck law from viscosities\n",
    "    Arguments:\n",
    "        d_sim: diffusion coefficient from the simulation\n",
    "        eta_m: membrane surface viscosity in Pa s m\n",
    "        eta_f: water viscosity in Pa s\n",
    "        T: temperature in K\n",
    "    Returns:\n",
    "        dc: diffusion coefficient predicted by the HPW law\n",
    "    \"\"\"\n",
    "\n",
    "    d_corr = memdiff.d0_approximation(dpbc=d_sim*1.0e-7,eta_f=eta_f_martini,eta_m=eta_m,h=2.5,l=70,T=300)\n",
    "    \n",
    "    return 1.0e7*d_corr"
   ]
  },
  {
   "cell_type": "code",
   "execution_count": null,
   "metadata": {
    "ExecuteTime": {
     "end_time": "2018-08-26T17:53:43.730946",
     "start_time": "2018-08-26T17:53:43.180244"
    }
   },
   "outputs": [],
   "source": [
    "name = 'POPC-100CNT-12-8-f11-SNda-all'\n",
    "\n",
    "with open('../results/martini-bigsimulations/diffusion/diffusion_blocks_'+name+'.p','br') as infile:\n",
    "    block_cluster_size_avg, block_cluster_size_std, block_cluster_asym_avg, block_cluster_asym_std, block_cluster_radius_avg, block_cluster_radius_std, block_dc = pickle.load(infile)\n",
    "\n",
    "r = [] # effective radius\n",
    "d = [] # diffusion coefficient\n",
    "e = [] # error of the diffusion coefficient\n",
    "\n",
    "for i in np.arange(100):\n",
    "\n",
    "    valid = block_cluster_size_avg==i+1  \n",
    "    num_samples = np.sum(valid)\n",
    "    \n",
    "    if num_samples > 40:\n",
    "        \n",
    "        dc = block_dc[valid]\n",
    "\n",
    "        new_r = np.sqrt(i+1) \n",
    "        new_d = np.average(dc)\n",
    "\n",
    "        # Error estimate via corrected standard error of the mean\n",
    "        new_e = np.std(dc)*np.sqrt((i+1)/(float(num_samples)))\n",
    "\n",
    "        if np.isfinite(new_e):\n",
    "\n",
    "            r.append( new_r )\n",
    "            d.append( new_d )\n",
    "            e.append( new_e )\n",
    "\n",
    "r = np.array(r) * r_CNT # multiply with radius of one CNT\n",
    "d = np.array(d)\n",
    "e = np.array(e)  "
   ]
  },
  {
   "cell_type": "code",
   "execution_count": null,
   "metadata": {
    "ExecuteTime": {
     "end_time": "2018-08-26T17:53:43.774938",
     "start_time": "2018-08-26T17:53:43.734020"
    },
    "scrolled": true
   },
   "outputs": [],
   "source": [
    "# --------------------------- #\n",
    "#   Fit to uncoreected data   #\n",
    "# --------------------------- #\n",
    "\n",
    "eta_m_fit_raw, pcov = sp.optimize.curve_fit( d_PS_visc,r,d, p0=[4e-11], sigma=e, absolute_sigma=True )\n",
    "l_sd = 0.5e9*eta_m_fit_raw[0]/eta_f_martini\n",
    "\n",
    "# Goodness of the fit\n",
    "chi2   = np.sum( ((d-d_PS_visc(r,eta_m_fit_raw))/e)**2 )\n",
    "nu     = len(r)-2\n",
    "chi2nu = chi2/nu\n",
    "\n",
    "# Result\n",
    "# Result\n",
    "print('Fit to the raw data:')\n",
    "print('eta_m = %3.3e Pa s m'% eta_m_fit_raw[0])\n",
    "print('L_SD = %.1f nm' % l_sd )\n",
    "print('chi^2 = %.1f +/- %.1f' % (chi2nu,np.sqrt(2./nu)))\n",
    "print('')\n",
    "\n",
    "\n",
    "# -------------------------------- #\n",
    "#   Fit including the correction   #\n",
    "# -------------------------------- #\n",
    "\n",
    "def fit_correction(x, eta_m_fit):\n",
    "    return d_corr_visc( d, eta_m_fit) - d_PS_visc( x, eta_m_fit )\n",
    "eta_m_fit_corr, pcov = sp.optimize.curve_fit( fit_correction,r,d*0, p0=[4e-11], sigma=e, absolute_sigma=True )\n",
    "l_sd = 0.5e9*eta_m_fit_corr[0]/eta_f_martini\n",
    "\n",
    "# Goodness of the fit\n",
    "chi2   = np.sum( (fit_correction(r,eta_m_fit_corr)/e)**2 )\n",
    "nu     = len(r)-2\n",
    "chi2nu = chi2/nu\n",
    "\n",
    "# Result\n",
    "print('Fit to the corrected data:')\n",
    "print('eta_m = %3.3e Pa s m'% eta_m_fit_corr)\n",
    "print('L_SD = %.1f nm' % l_sd )\n",
    "print('chi^2 = %.1f +/- %.1f' % (chi2nu,np.sqrt(2./nu)))"
   ]
  },
  {
   "cell_type": "code",
   "execution_count": null,
   "metadata": {
    "ExecuteTime": {
     "end_time": "2018-08-26T18:38:51.029623",
     "start_time": "2018-08-26T18:38:50.219029"
    }
   },
   "outputs": [],
   "source": [
    "fig, ax = plt.subplots(2,1, figsize=[3.5,6.2], dpi=100) # , sharey='row', sharex='col'\n",
    "\n",
    "\n",
    "# ---------------------------- #\n",
    "#   Plots of data and theory   #\n",
    "# ---------------------------- #\n",
    "\n",
    "# D from simulations\n",
    "ax[0].plot( r, d, marker='s', ls='none', color='C0', mec='none', label='simulated' )\n",
    "ax[0].errorbar( r, d, e, ls='none', color='C0', mec='none', alpha=0.5 )\n",
    "\n",
    "# Corrected D\n",
    "ax[0].plot( r, d_corr_visc( d, 4.3e-11 ), marker='o', ls='none', color='C1', mec='none', label='corrected' )\n",
    "ax[0].errorbar( r, d_corr_visc( d, 4.3e-11 ), e, ls='none', color='C1', mec='none', alpha=0.5 )\n",
    "\n",
    "# Theory with fitted eta_m\n",
    "xax = np.arange(0.5,13,0.1)\n",
    "#ax.plot( xax, d_PS_visc(xax,eta_m_fit_raw ), ':', lw=3, color='C5', label=r'fit to sim.' )\n",
    "#ax.plot( xax, d_PS_visc(xax,eta_m_fit_corr), '--', lw=3, color='C3', label=r'fit to corr.' )\n",
    "ax[0].plot( xax, d_PS_visc(xax,eta_m_fit_corr), '-', lw=3, color='C3', label=r'HPW-PS theory' )\n",
    "ax[0].plot( xax, d_SD_visc(xax,eta_m_fit_corr), ':',  lw=3, color='C2', label=r'SD theory' )\n",
    "\n",
    "ax[0].legend(loc='upper right') #,fontsize=14)\n",
    "ax[0].set_xlim([0.5,12])\n",
    "ax[0].set_ylim([0,2.75])\n",
    "ax[0].set_xlabel(r'effective cluster radius') #,fontsize=20)\n",
    "ax[0].set_ylabel(r'$D\\;[10^{-7}\\,\\mathrm{cm^2\\,s^{-1}}]$') #,fontsize=20)\n",
    "\n",
    "\n",
    "# ----------------------------- #\n",
    "#  Plots of example MSD curves  #\n",
    "# ----------------------------- #\n",
    "\n",
    "# Load data\n",
    "with open('../results/martini-bigsimulations/diffusion/diffusion_clusters_POPC-100CNT-12-8-f11-SNda.p','br') as infile:\n",
    "    cluster_sizes, cluster_dc, cluster_err, time, cluster_msd, cluster_points = pickle.load(infile)\n",
    "\n",
    "rainbow = plt.get_cmap('viridis')\n",
    "print('Cluster sizes:', cluster_sizes)\n",
    "for n,cs in enumerate(cluster_sizes):\n",
    "    msd_n = cluster_msd[n,:]*0.1 # conversion to nm\n",
    "    if cs==1 or cs==np.max(cluster_sizes):\n",
    "        ax[1].plot(time[:len(msd_n)],msd_n,color=rainbow(np.sqrt(float(cs)/np.max(cluster_sizes))),label='cluster size $s_c = $'+str(cs))\n",
    "    else:\n",
    "        ax[1].plot(time[:len(msd_n)],msd_n,color=rainbow(np.sqrt(float(cs)/np.max(cluster_sizes))))\n",
    "\n",
    "ax[1].set_xlim([0,17.5])\n",
    "ax[1].set_ylim([0,17.5])\n",
    "\n",
    "ax[1].set_xlabel(r'$t\\;[\\mathrm{ns}]$') #,fontsize=20)\n",
    "ax[1].set_ylabel(r'MSD$(t)\\;[\\mathrm{nm^2}]$') #,fontsize=20)\n",
    "\n",
    "ax[1].legend(loc='upper left') #,fontsize=14)\n",
    "    \n",
    "        \n",
    "# ---------------------------- #\n",
    "#   Labels, Style and Layout   #\n",
    "# ---------------------------- #\n",
    "\n",
    "panellabel = [\"A\",\"B\"]\n",
    "for i,axi in enumerate(ax):\n",
    "    #axi.tick_params(labelsize=16)\n",
    "    axi.text(0.96, 0.12, panellabel[i], transform=axi.transAxes, fontsize=16, va='top', ha='right') # , fontweight='bold'\n",
    "\n",
    "fig.tight_layout()\n",
    "\n",
    "fig.savefig(\"figure3.pdf\", format='pdf', dpi=300)"
   ]
  },
  {
   "cell_type": "code",
   "execution_count": null,
   "metadata": {
    "ExecuteTime": {
     "end_time": "2018-08-26T18:38:51.029623",
     "start_time": "2018-08-26T18:38:50.219029"
    }
   },
   "outputs": [],
   "source": [
    "fig, ax = plt.subplots(1, 1, figsize=plt.figaspect(.75)*1.0, dpi=100) # , sharey='row', sharex='col'\n",
    "\n",
    "# ---------------------------- #\n",
    "#   Plots of data and theory   #\n",
    "# ---------------------------- #\n",
    "\n",
    "# D from simulations\n",
    "ax.plot( r, d, marker='s', ls='none', color='C0', mec='none', label='simulated' )\n",
    "ax.errorbar( r, d, e, ls='none', color='C0', mec='none', alpha=0.5 )\n",
    "\n",
    "# Corrected D\n",
    "ax.plot( r, d_corr_visc( d, 4.3e-11 ), marker='o', ls='none', color='C1', mec='none', label='corrected' )\n",
    "ax.errorbar( r, d_corr_visc( d, 4.3e-11 ), e, ls='none', color='C1', mec='none', alpha=0.5 )\n",
    "\n",
    "# Theory with fitted eta_m\n",
    "xax = np.arange(0.5,13,0.1)\n",
    "#ax.plot( xax, d_PS_visc(xax,eta_m_fit_raw ), ':', lw=3, color='C5', label=r'fit to sim.' )\n",
    "#ax.plot( xax, d_PS_visc(xax,eta_m_fit_corr), '--', lw=3, color='C3', label=r'fit to corr.' )\n",
    "ax.plot( xax, d_PS_visc(xax,eta_m_fit_corr), '-', lw=3, color='C3', label=r'HPW-PS theory' )\n",
    "ax.plot( xax, d_SD_visc(xax,eta_m_fit_corr), ':',  lw=3, color='C2', label=r'SD theory' )\n",
    "       \n",
    "# ---------------------------- #\n",
    "#   Labels, Style and Layout   #\n",
    "# ---------------------------- #\n",
    "\n",
    "ax.legend(loc='upper right',fontsize=14)\n",
    "ax.tick_params(labelsize=14)\n",
    "ax.set_xlim([0,12.5])\n",
    "ax.set_ylim([0,2.75])\n",
    "ax.set_xlabel(r'effective cluster radius',fontsize=20)\n",
    "ax.set_ylabel(r'$D\\;[10^{-7}\\,\\mathrm{cm^2\\,s^{-1}}]$',fontsize=20)\n",
    "fig.tight_layout()\n",
    "\n",
    "fig.savefig(\"figure3a.pdf\", format='pdf')"
   ]
  },
  {
   "cell_type": "markdown",
   "metadata": {},
   "source": [
    "Diffusing clusters behave like one big object and follow the Petrov-Schwille relation. The size-corrected diffusion coefficients match quantitatively to the theoretical prediction. Even though we do not exactly know the membrane viscosity and allow it as a free fit parameter, we can see that they match only badly. However fitting the theory including the finite-size correction gives a perfect agreement. This insight will help to refine mesoscale models [citation Duncan/Chavent et al.] and the analysis of diffusion in crowded membranes [cite Javanainen et al.]. \n",
    "\n",
    "The range of validity of the SD law is much smaller in Martini. The viscosities of the membrane and of the water do not scale in the same way with respect to real systems (and to atomistic simulations). Therefore $L_{SD}$, the characteristic length scale, is only tens of nanometers in Martini instead of hundreds. It is a priori clear that absolute dynamics in coarse-grained models is different from the situation in atomistic systems, however care should also be taken when comparing relative dynamics. A shift in the effective length scale of the system can lead to qualitatively different behavior."
   ]
  },
  {
   "cell_type": "code",
   "execution_count": null,
   "metadata": {
    "ExecuteTime": {
     "end_time": "2018-08-26T17:53:45.738407",
     "start_time": "2018-08-26T17:53:44.704655"
    }
   },
   "outputs": [],
   "source": [
    "l_sd = 0.5e9*eta_m_fit_corr/eta_f_martini\n",
    "\n",
    "fig, ax = plt.subplots(1, 1, figsize=plt.figaspect(.75)*1.0, dpi=100) # , sharey='row', sharex='col'\n",
    "\n",
    "a = np.arange(0.8,500)\n",
    "ax.plot( a, d_PS_visc(a,4.5e-11),  '-', lw=3, color='black', label='PS')\n",
    "ax.plot( a, d_SD_visc(a,4.5e-11),  ':', lw=3, color='black', label='SD')\n",
    "ax.plot( a, d_SE_visc(a,4.5e-11), '--', lw=3, color='black', label='SE')\n",
    "ax.vlines( l_sd, 0, 3, lw=3, color='grey')\n",
    "\n",
    "ax.legend(loc='upper right',fontsize=14)\n",
    "ax.annotate(r'$L_\\mathrm{SD}$',[l_sd+3.,2.],size=14,color='grey')\n",
    "\n",
    "ax.tick_params(labelsize=14)\n",
    "ax.set_xlim(0.8,500)\n",
    "ax.set_ylim(0.0,2.75)\n",
    "ax.set_xscale('log')\n",
    "#ax.set_yscale('log')\n",
    "ax.set_xlabel(r'effective radius',fontsize=20)\n",
    "ax.set_ylabel(r'$D\\;[10^{-7}\\,\\mathrm{cm^2\\,s^{-1}}]$',fontsize=20)\n",
    "fig.tight_layout()"
   ]
  }
 ],
 "metadata": {
  "anaconda-cloud": {},
  "kernelspec": {
   "display_name": "Python [conda env:root] *",
   "language": "python",
   "name": "conda-root-py"
  },
  "language_info": {
   "codemirror_mode": {
    "name": "ipython",
    "version": 3
   },
   "file_extension": ".py",
   "mimetype": "text/x-python",
   "name": "python",
   "nbconvert_exporter": "python",
   "pygments_lexer": "ipython3",
   "version": "3.7.3"
  },
  "toc": {
   "colors": {
    "hover_highlight": "#DAA520",
    "running_highlight": "#FF0000",
    "selected_highlight": "#FFD700"
   },
   "moveMenuLeft": true,
   "nav_menu": {
    "height": "174px",
    "width": "252px"
   },
   "navigate_menu": true,
   "number_sections": true,
   "sideBar": true,
   "threshold": 4,
   "toc_cell": false,
   "toc_position": {
    "height": "767px",
    "left": "0px",
    "right": "1640px",
    "top": "107px",
    "width": "280px"
   },
   "toc_section_display": "block",
   "toc_window_display": true
  }
 },
 "nbformat": 4,
 "nbformat_minor": 1
}
